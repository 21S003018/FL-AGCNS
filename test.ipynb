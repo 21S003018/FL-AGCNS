{
 "cells": [
  {
   "cell_type": "code",
   "execution_count": 2,
   "metadata": {},
   "outputs": [],
   "source": [
    "import pickle\n",
    "# path = \"data/Physics/0_uncopynode.pkl\"\n",
    "# with open(path, 'rb') as f:\n",
    "#     data = pickle.load(f)\n",
    "# print(data.edge_index.max())\n",
    "# print(len(data.x))"
   ]
  },
  {
   "cell_type": "code",
   "execution_count": 41,
   "metadata": {},
   "outputs": [
    {
     "name": "stdout",
     "output_type": "stream",
     "text": [
      "None\n"
     ]
    }
   ],
   "source": [
    "# print(data.edge_index.shape, data.train_mask.shape)\n",
    "# s = set()\n",
    "# for e in data.edge_index[1]:\n",
    "#     s.add(e.item())\n",
    "# print(len(s))\n",
    "# data.edge_index\n",
    "# data.train_mask\n",
    "\n",
    "# path = 'data/SBM/0_uncopynode.pkl'\n",
    "# with open(path, 'rb') as f:\n",
    "#     data = pickle.load(f)\n",
    "# print(data.y.min(),data.y.max())\n",
    "# print(data.edge_index[0].max())\n",
    "# print(data.edge_index[1].max())\n",
    "# print(len(data.x[0]))\n",
    "import torch\n",
    "x = torch.Tensor([0,0])\n",
    "print(x.to('cuda').grad)\n"
   ]
  },
  {
   "cell_type": "code",
   "execution_count": 3,
   "metadata": {},
   "outputs": [],
   "source": [
    "class DotDict(dict):\n",
    "    def __init__(self, **kwds):\n",
    "        self.update(kwds)\n",
    "        self.__dict__ = self\n",
    "\n",
    "path_sbm_train = \"data/SBM/SBM_CLUSTER_train.pkl\"\n",
    "path_sbm_val = \"data/SBM/SBM_CLUSTER_val.pkl\"\n",
    "path_sbm_test = \"data/SBM/SBM_CLUSTER_test.pkl\"\n",
    "with open(path_sbm_train, 'rb') as f:\n",
    "    sbm_train = pickle.load(f)\n",
    "with open(path_sbm_val, 'rb') as f:\n",
    "    sbm_val = pickle.load(f)\n",
    "with open(path_sbm_test, 'rb') as f:\n",
    "    sbm_test = pickle.load(f)\n",
    "# sbm_train"
   ]
  },
  {
   "cell_type": "code",
   "execution_count": 4,
   "metadata": {},
   "outputs": [
    {
     "name": "stdout",
     "output_type": "stream",
     "text": [
      "1168087 116896 116820 1401803\n"
     ]
    }
   ],
   "source": [
    "# for tmp in sbm_train:\n",
    "#     print(len(tmp.node_feat))\n",
    "# sbm_train[0].node_feat\n",
    "# edge_index = torch.tensor([[],[]])\n",
    "# print(edge_index)\n",
    "# print(torch.cat((edge_index, torch.nonzero(sbm_train[0].W).T+100), 1))\n",
    "# x = torch.BoolTensor([0]*10)\n",
    "# x[1:3] = True\n",
    "# print(x)\n",
    "# print([1,2]*2)\n",
    "s_train = 0\n",
    "for tmp in sbm_train:\n",
    "    s_train += len(tmp.node_feat)\n",
    "s_val = 0\n",
    "for tmp in sbm_val:\n",
    "    s_val += len(tmp.node_feat)\n",
    "s_test = 0\n",
    "for tmp in sbm_test:\n",
    "    s_test += len(tmp.node_feat)\n",
    "print(s_train, s_val, s_test, s_train + s_val+s_test)"
   ]
  },
  {
   "cell_type": "code",
   "execution_count": 1,
   "metadata": {},
   "outputs": [],
   "source": [
    "from torch_geometric.data import Data\n",
    "K=1000\n",
    "NBTRAIN = len(sbm_train)\n",
    "NBVAL = len(sbm_val)\n",
    "NBTEST = len(sbm_test)\n",
    "\n",
    "import torch\n",
    "for k in range(K):\n",
    "    print(k)\n",
    "    idx_base=0\n",
    "    edge_index = torch.LongTensor([[],[]])\n",
    "    x = torch.tensor([])\n",
    "    y = torch.LongTensor([])\n",
    "    for idx_graph in range(k*int(NBTRAIN/K),(k+1)*int(NBTRAIN/K)):\n",
    "        sub_graph = sbm_train[idx_graph]\n",
    "        edge_index = torch.cat(\n",
    "            (edge_index, torch.nonzero(sub_graph.W).T+idx_base), 1)\n",
    "        x = torch.cat((x, torch.unsqueeze(sub_graph.node_feat, 1)), 0)\n",
    "        y = torch.cat((y, sub_graph.node_label), 0)\n",
    "        idx_base += len(sub_graph.node_feat)\n",
    "    # print(x.size(), edge_index, idx_base)\n",
    "    idx_train = idx_base\n",
    "    for idx_graph in range(k*int(NBVAL/K), (k+1)*int(NBVAL/K)):\n",
    "        sub_graph = sbm_val[idx_graph]\n",
    "        edge_index = torch.cat(\n",
    "            (edge_index, torch.nonzero(sub_graph.W).T+idx_base), 1)\n",
    "        x = torch.cat((x, torch.unsqueeze(sub_graph.node_feat, 1)), 0)\n",
    "        y = torch.cat((y, sub_graph.node_label), 0)\n",
    "        idx_base += len(sub_graph.node_feat)\n",
    "    # print(x.size(), edge_index, idx_base)\n",
    "    idx_val = idx_base\n",
    "    for idx_graph in range(k*int(NBTEST/K), (k+1)*int(NBTEST/K)):\n",
    "        sub_graph = sbm_test[idx_graph]\n",
    "        edge_index = torch.cat(\n",
    "            (edge_index, torch.nonzero(sub_graph.W).T+idx_base), 1)\n",
    "        x = torch.cat((x, torch.unsqueeze(sub_graph.node_feat, 1)), 0)\n",
    "        y = torch.cat((y, sub_graph.node_label), 0)\n",
    "        idx_base += len(sub_graph.node_feat)\n",
    "    # print(x.size(), edge_index, idx_base)\n",
    "    idx_test = idx_base\n",
    "\n",
    "    x = torch.zeros(x.shape[0], 7).scatter(1, torch.tensor(x,dtype=torch.int64), 1)[:, 1:]\n",
    "    train_mask = torch.BoolTensor([0]*idx_base)\n",
    "    train_mask[0:idx_train] = True\n",
    "    val_mask = torch.BoolTensor([0]*idx_base)\n",
    "    val_mask[idx_train:idx_val] = True\n",
    "    test_mask = torch.BoolTensor([0]*idx_base)\n",
    "    test_mask[idx_val:idx_test] = True\n",
    "    with open(\"data/SBM/{}_uncopynode.pkl\".format(k), \"wb\") as f:\n",
    "        pickle.dump(Data(edge_index=edge_index, x = x, y = y, train_mask = train_mask, val_mask = val_mask, test_mask = val_mask), f)\n",
    "    # break\n"
   ]
  },
  {
   "cell_type": "code",
   "execution_count": 28,
   "metadata": {},
   "outputs": [
    {
     "name": "stdout",
     "output_type": "stream",
     "text": [
      "torch.Size([1545, 6]) tensor([[   0,    0,    0,  ..., 1544, 1544, 1544],\n",
      "        [   1,    8,    9,  ..., 1535, 1536, 1537]])\n"
     ]
    },
    {
     "data": {
      "text/plain": [
       "tensor([[-0.0098,  0.0017,  0.0037, -0.0007, -0.0068],\n",
       "        [-0.0114,  0.0024,  0.0004, -0.0016, -0.0068],\n",
       "        [-0.0093,  0.0013,  0.0036, -0.0011, -0.0052],\n",
       "        ...,\n",
       "        [-0.0179,  0.0027,  0.0038, -0.0019, -0.0082],\n",
       "        [-0.0157,  0.0015,  0.0032, -0.0009, -0.0094],\n",
       "        [-0.0168,  0.0040,  0.0111, -0.0007, -0.0146]],\n",
       "       grad_fn=<AsStridedBackward0>)"
      ]
     },
     "execution_count": 28,
     "metadata": {},
     "output_type": "execute_result"
    }
   ],
   "source": [
    "# from models import Gat\n",
    "# model = Gat(6,5)\n",
    "path = 'data/SBM/0_uncopynode.pkl'\n",
    "with open(path, 'rb') as f:\n",
    "    data = pickle.load(f).to('cuda:0')\n",
    "input(\"ending?\")\n",
    "# print(data.x.size(),data.edge_index)\n",
    "# output = model(data.x,data.edge_index)\n",
    "# output"
   ]
  }
 ],
 "metadata": {
  "interpreter": {
   "hash": "e27ccc4603250ab3abeb046d8ea1d0ecb320aa3746dcee4c0646124a7f5fa178"
  },
  "kernelspec": {
   "display_name": "Python 3.9.7 ('base')",
   "language": "python",
   "name": "python3"
  },
  "language_info": {
   "codemirror_mode": {
    "name": "ipython",
    "version": 3
   },
   "file_extension": ".py",
   "mimetype": "text/x-python",
   "name": "python",
   "nbconvert_exporter": "python",
   "pygments_lexer": "ipython3",
   "version": "3.9.7"
  },
  "orig_nbformat": 4
 },
 "nbformat": 4,
 "nbformat_minor": 2
}
