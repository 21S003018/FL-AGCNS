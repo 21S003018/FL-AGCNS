{
 "cells": [
  {
   "cell_type": "code",
   "execution_count": 67,
   "metadata": {},
   "outputs": [],
   "source": [
    "import pickle\n",
    "path = \"data/Physics/0_uncopynode.pkl\"\n",
    "with open(path, 'rb') as f:\n",
    "    data = pickle.load(f)"
   ]
  },
  {
   "cell_type": "code",
   "execution_count": 1,
   "metadata": {},
   "outputs": [],
   "source": [
    "# print(data.edge_index.shape, data.train_mask.shape)\n",
    "# s = set()\n",
    "# for e in data.edge_index[1]:\n",
    "#     s.add(e.item())\n",
    "# print(len(s))\n",
    "# data.edge_index\n",
    "# data.train_mask"
   ]
  },
  {
   "cell_type": "code",
   "execution_count": 55,
   "metadata": {},
   "outputs": [],
   "source": [
    "class DotDict(dict):\n",
    "    def __init__(self, **kwds):\n",
    "        self.update(kwds)\n",
    "        self.__dict__ = self\n",
    "\n",
    "path_sbm_train = \"data/SBM/SBM_CLUSTER_train.pkl\"\n",
    "path_sbm_val = \"data/SBM/SBM_CLUSTER_val.pkl\"\n",
    "path_sbm_test = \"data/SBM/SBM_CLUSTER_test.pkl\"\n",
    "with open(path_sbm_train, 'rb') as f:\n",
    "    sbm_train = pickle.load(f)\n",
    "with open(path_sbm_val, 'rb') as f:\n",
    "    sbm_val = pickle.load(f)\n",
    "with open(path_sbm_test, 'rb') as f:\n",
    "    sbm_test = pickle.load(f)\n",
    "# sbm_train"
   ]
  },
  {
   "cell_type": "code",
   "execution_count": 69,
   "metadata": {},
   "outputs": [
    {
     "data": {
      "text/plain": [
       "tensor([0, 0, 0, 0, 0, 0, 0, 0, 0, 0, 0, 0, 0, 0, 0, 0, 0, 0, 0, 0, 1, 0, 0, 0,\n",
       "        0, 0, 0, 0, 0, 0, 0, 0, 0, 0, 0, 0, 0, 0, 0, 0, 0, 0, 2, 0, 0, 0, 0, 0,\n",
       "        0, 0, 6, 0, 0, 0, 0, 0, 0, 0, 0, 0, 0, 0, 0, 3, 0, 0, 0, 0, 0, 0, 5, 0,\n",
       "        0, 0, 0, 0, 0, 0, 0, 0, 0, 0, 0, 0, 0, 0, 0, 0, 0, 0, 0, 0, 0, 0, 0, 0,\n",
       "        0, 0, 0, 0, 0, 0, 0, 0, 0, 0, 0, 0, 0, 0, 0, 0, 0, 4, 0, 0, 0],\n",
       "       dtype=torch.int16)"
      ]
     },
     "execution_count": 69,
     "metadata": {},
     "output_type": "execute_result"
    }
   ],
   "source": [
    "# for tmp in sbm_train:\n",
    "#     print(len(tmp.node_feat))\n",
    "sbm_train[0].node_feat\n",
    "# edge_index = torch.tensor([[],[]])\n",
    "# print(edge_index)\n",
    "# print(torch.cat((edge_index, torch.nonzero(sbm_train[0].W).T+100), 1))\n",
    "# x = torch.BoolTensor([0]*10)\n",
    "# x[1:3] = True\n",
    "# print(x)"
   ]
  },
  {
   "cell_type": "code",
   "execution_count": 83,
   "metadata": {},
   "outputs": [
    {
     "name": "stderr",
     "output_type": "stream",
     "text": [
      "/tmp/ipykernel_562791/3679550560.py:38: UserWarning: To copy construct from a tensor, it is recommended to use sourceTensor.clone().detach() or sourceTensor.clone().detach().requires_grad_(True), rather than torch.tensor(sourceTensor).\n",
      "  x = torch.zeros(x.shape[0], 7).scatter(1, torch.tensor(x,dtype=torch.int64), 1)[:, 1:]\n"
     ]
    }
   ],
   "source": [
    "from torch_geometric.data import Data\n",
    "K=100\n",
    "NBTRAIN = len(sbm_train)\n",
    "NBVAL = len(sbm_val)\n",
    "NBTEST = len(sbm_test)\n",
    "\n",
    "import torch\n",
    "for k in range(K):\n",
    "    idx_base=0\n",
    "    edge_index = torch.LongTensor([[],[]])\n",
    "    x = torch.tensor([])\n",
    "    y = torch.tensor([])\n",
    "    for idx_graph in range(k*int(NBTRAIN/K),(k+1)*int(NBTRAIN/K)):\n",
    "        sub_graph = sbm_train[idx_graph]\n",
    "        edge_index = torch.cat(\n",
    "            (edge_index, torch.nonzero(sbm_train[0].W).T+idx_base), 1)\n",
    "        x = torch.cat((x, torch.unsqueeze(sub_graph.node_feat, 1)), 0)\n",
    "        y = torch.cat((y, sub_graph.node_label), 0)\n",
    "        idx_base += len(sub_graph.node_feat)\n",
    "    idx_train = idx_base\n",
    "    for idx_graph in range(k*int(NBVAL/K), (k+1)*int(NBVAL/K)):\n",
    "        sub_graph = sbm_val[idx_graph]\n",
    "        edge_index = torch.cat(\n",
    "            (edge_index, torch.nonzero(sbm_train[0].W).T+idx_base), 1)\n",
    "        x = torch.cat((x, torch.unsqueeze(sub_graph.node_feat, 1)), 0)\n",
    "        y = torch.cat((y, sub_graph.node_label), 0)\n",
    "        idx_base += len(sub_graph.node_feat)\n",
    "    idx_val = idx_base\n",
    "    for idx_graph in range(k*int(NBTEST/K), (k+1)*int(NBTEST/K)):\n",
    "        sub_graph = sbm_test[idx_graph]\n",
    "        edge_index = torch.cat(\n",
    "            (edge_index, torch.nonzero(sbm_train[0].W).T+idx_base), 1)\n",
    "        x = torch.cat((x, torch.unsqueeze(sub_graph.node_feat, 1)), 0)\n",
    "        y = torch.cat((y, sub_graph.node_label), 0)\n",
    "        idx_base += len(sub_graph.node_feat)\n",
    "    idx_test = idx_base\n",
    "\n",
    "    x = torch.zeros(x.shape[0], 7).scatter(1, torch.tensor(x,dtype=torch.int64), 1)[:, 1:]\n",
    "    train_mask = torch.BoolTensor([0]*idx_base)\n",
    "    train_mask[0:idx_train] = True\n",
    "    val_mask = torch.BoolTensor([0]*idx_base)\n",
    "    val_mask[idx_train:idx_val] = True\n",
    "    test_mask = torch.BoolTensor([0]*idx_base)\n",
    "    test_mask[idx_val:idx_test] = True\n",
    "    with open(\"data/SBM/{}_uncopynode.pkl\".format(k), \"wb\") as f:\n",
    "        pickle.dump(Data(edge_index=edge_index, x = x, y = y, train_mask = train_mask, val_mask = val_mask, test_mask = val_mask), f)\n",
    "    break"
   ]
  }
 ],
 "metadata": {
  "interpreter": {
   "hash": "107ca912c34283f1e783f874d23ab65f09505e75747332ac35ecc882c819ad56"
  },
  "kernelspec": {
   "display_name": "Python 3.8.11 ('test')",
   "language": "python",
   "name": "python3"
  },
  "language_info": {
   "codemirror_mode": {
    "name": "ipython",
    "version": 3
   },
   "file_extension": ".py",
   "mimetype": "text/x-python",
   "name": "python",
   "nbconvert_exporter": "python",
   "pygments_lexer": "ipython3",
   "version": "3.8.11"
  },
  "orig_nbformat": 4
 },
 "nbformat": 4,
 "nbformat_minor": 2
}
