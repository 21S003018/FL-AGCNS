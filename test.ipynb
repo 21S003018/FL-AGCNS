{
 "cells": [
  {
   "cell_type": "code",
   "execution_count": 28,
   "metadata": {},
   "outputs": [
    {
     "name": "stdout",
     "output_type": "stream",
     "text": [
      "tensor(4440)\n",
      "4441\n"
     ]
    }
   ],
   "source": [
    "import pickle\n",
    "path = \"data/Physics/0_uncopynode.pkl\"\n",
    "with open(path, 'rb') as f:\n",
    "    data = pickle.load(f)\n",
    "print(data.edge_index.max())\n",
    "print(len(data.x))"
   ]
  },
  {
   "cell_type": "code",
   "execution_count": 41,
   "metadata": {},
   "outputs": [
    {
     "name": "stdout",
     "output_type": "stream",
     "text": [
      "None\n"
     ]
    }
   ],
   "source": [
    "# print(data.edge_index.shape, data.train_mask.shape)\n",
    "# s = set()\n",
    "# for e in data.edge_index[1]:\n",
    "#     s.add(e.item())\n",
    "# print(len(s))\n",
    "# data.edge_index\n",
    "# data.train_mask\n",
    "\n",
    "# path = 'data/SBM/0_uncopynode.pkl'\n",
    "# with open(path, 'rb') as f:\n",
    "#     data = pickle.load(f)\n",
    "# print(data.y.min(),data.y.max())\n",
    "# print(data.edge_index[0].max())\n",
    "# print(data.edge_index[1].max())\n",
    "# print(len(data.x[0]))\n",
    "import torch\n",
    "x = torch.Tensor([0,0])\n",
    "print(x.to('cuda').grad)\n"
   ]
  },
  {
   "cell_type": "code",
   "execution_count": 6,
   "metadata": {},
   "outputs": [],
   "source": [
    "class DotDict(dict):\n",
    "    def __init__(self, **kwds):\n",
    "        self.update(kwds)\n",
    "        self.__dict__ = self\n",
    "\n",
    "path_sbm_train = \"data/SBM/SBM_CLUSTER_train.pkl\"\n",
    "path_sbm_val = \"data/SBM/SBM_CLUSTER_val.pkl\"\n",
    "path_sbm_test = \"data/SBM/SBM_CLUSTER_test.pkl\"\n",
    "with open(path_sbm_train, 'rb') as f:\n",
    "    sbm_train = pickle.load(f)\n",
    "with open(path_sbm_val, 'rb') as f:\n",
    "    sbm_val = pickle.load(f)\n",
    "with open(path_sbm_test, 'rb') as f:\n",
    "    sbm_test = pickle.load(f)\n",
    "# sbm_train"
   ]
  },
  {
   "cell_type": "code",
   "execution_count": 8,
   "metadata": {},
   "outputs": [
    {
     "name": "stdout",
     "output_type": "stream",
     "text": [
      "1168087 116896 116820 1401803\n"
     ]
    }
   ],
   "source": [
    "# for tmp in sbm_train:\n",
    "#     print(len(tmp.node_feat))\n",
    "# sbm_train[0].node_feat\n",
    "# edge_index = torch.tensor([[],[]])\n",
    "# print(edge_index)\n",
    "# print(torch.cat((edge_index, torch.nonzero(sbm_train[0].W).T+100), 1))\n",
    "# x = torch.BoolTensor([0]*10)\n",
    "# x[1:3] = True\n",
    "# print(x)\n",
    "# print([1,2]*2)\n",
    "s_train = 0\n",
    "for tmp in sbm_train:\n",
    "    s_train += len(tmp.node_feat)\n",
    "s_val = 0\n",
    "for tmp in sbm_val:\n",
    "    s_val += len(tmp.node_feat)\n",
    "s_test = 0\n",
    "for tmp in sbm_test:\n",
    "    s_test += len(tmp.node_feat)\n",
    "print(s_train, s_val, s_test, s_train + s_val+s_test)"
   ]
  },
  {
   "cell_type": "code",
   "execution_count": 18,
   "metadata": {},
   "outputs": [
    {
     "name": "stdout",
     "output_type": "stream",
     "text": [
      "0\n",
      "1\n",
      "2\n",
      "3\n"
     ]
    },
    {
     "name": "stderr",
     "output_type": "stream",
     "text": [
      "/tmp/ipykernel_44285/1685744141.py:39: UserWarning: To copy construct from a tensor, it is recommended to use sourceTensor.clone().detach() or sourceTensor.clone().detach().requires_grad_(True), rather than torch.tensor(sourceTensor).\n",
      "  x = torch.zeros(x.shape[0], 7).scatter(1, torch.tensor(x,dtype=torch.int64), 1)[:, 1:]\n"
     ]
    },
    {
     "name": "stdout",
     "output_type": "stream",
     "text": [
      "4\n",
      "5\n",
      "6\n",
      "7\n",
      "8\n",
      "9\n",
      "10\n",
      "11\n",
      "12\n",
      "13\n",
      "14\n",
      "15\n",
      "16\n",
      "17\n",
      "18\n",
      "19\n",
      "20\n",
      "21\n",
      "22\n",
      "23\n",
      "24\n",
      "25\n",
      "26\n",
      "27\n",
      "28\n",
      "29\n",
      "30\n",
      "31\n",
      "32\n",
      "33\n",
      "34\n",
      "35\n",
      "36\n",
      "37\n",
      "38\n",
      "39\n",
      "40\n",
      "41\n",
      "42\n",
      "43\n",
      "44\n",
      "45\n",
      "46\n",
      "47\n",
      "48\n",
      "49\n",
      "50\n",
      "51\n",
      "52\n",
      "53\n",
      "54\n",
      "55\n",
      "56\n",
      "57\n",
      "58\n",
      "59\n",
      "60\n",
      "61\n",
      "62\n",
      "63\n",
      "64\n",
      "65\n",
      "66\n",
      "67\n",
      "68\n",
      "69\n",
      "70\n",
      "71\n",
      "72\n",
      "73\n",
      "74\n",
      "75\n",
      "76\n",
      "77\n",
      "78\n",
      "79\n",
      "80\n",
      "81\n",
      "82\n",
      "83\n",
      "84\n",
      "85\n",
      "86\n",
      "87\n",
      "88\n",
      "89\n",
      "90\n",
      "91\n",
      "92\n",
      "93\n",
      "94\n",
      "95\n",
      "96\n",
      "97\n",
      "98\n",
      "99\n"
     ]
    }
   ],
   "source": [
    "from torch_geometric.data import Data\n",
    "K=100\n",
    "NBTRAIN = len(sbm_train)\n",
    "NBVAL = len(sbm_val)\n",
    "NBTEST = len(sbm_test)\n",
    "\n",
    "import torch\n",
    "for k in range(K):\n",
    "    print(k)\n",
    "    idx_base=0\n",
    "    edge_index = torch.LongTensor([[],[]])\n",
    "    x = torch.tensor([])\n",
    "    y = torch.LongTensor([])\n",
    "    for idx_graph in range(k*int(NBTRAIN/K),(k+1)*int(NBTRAIN/K)):\n",
    "        sub_graph = sbm_train[idx_graph]\n",
    "        edge_index = torch.cat(\n",
    "            (edge_index, torch.nonzero(sbm_train[0].W).T+idx_base), 1)\n",
    "        x = torch.cat((x, torch.unsqueeze(sub_graph.node_feat, 1)), 0)\n",
    "        y = torch.cat((y, sub_graph.node_label), 0)\n",
    "        idx_base += len(sub_graph.node_feat)\n",
    "    idx_train = idx_base\n",
    "    for idx_graph in range(k*int(NBVAL/K), (k+1)*int(NBVAL/K)):\n",
    "        sub_graph = sbm_val[idx_graph]\n",
    "        edge_index = torch.cat(\n",
    "            (edge_index, torch.nonzero(sbm_train[0].W).T+idx_base), 1)\n",
    "        x = torch.cat((x, torch.unsqueeze(sub_graph.node_feat, 1)), 0)\n",
    "        y = torch.cat((y, sub_graph.node_label), 0)\n",
    "        idx_base += len(sub_graph.node_feat)\n",
    "    idx_val = idx_base\n",
    "    for idx_graph in range(k*int(NBTEST/K), (k+1)*int(NBTEST/K)):\n",
    "        sub_graph = sbm_test[idx_graph]\n",
    "        edge_index = torch.cat(\n",
    "            (edge_index, torch.nonzero(sbm_train[0].W).T+idx_base), 1)\n",
    "        x = torch.cat((x, torch.unsqueeze(sub_graph.node_feat, 1)), 0)\n",
    "        y = torch.cat((y, sub_graph.node_label), 0)\n",
    "        idx_base += len(sub_graph.node_feat)\n",
    "    idx_test = idx_base\n",
    "\n",
    "    x = torch.zeros(x.shape[0], 7).scatter(1, torch.tensor(x,dtype=torch.int64), 1)[:, 1:]\n",
    "    train_mask = torch.BoolTensor([0]*idx_base)\n",
    "    train_mask[0:idx_train] = True\n",
    "    val_mask = torch.BoolTensor([0]*idx_base)\n",
    "    val_mask[idx_train:idx_val] = True\n",
    "    test_mask = torch.BoolTensor([0]*idx_base)\n",
    "    test_mask[idx_val:idx_test] = True\n",
    "    with open(\"data/SBM/{}_uncopynode.pkl\".format(k), \"wb\") as f:\n",
    "        pickle.dump(Data(edge_index=edge_index, x = x, y = y, train_mask = train_mask, val_mask = val_mask, test_mask = val_mask), f)\n"
   ]
  },
  {
   "cell_type": "code",
   "execution_count": 30,
   "metadata": {},
   "outputs": [
    {
     "data": {
      "text/plain": [
       "tensor([[-2.5087e-03, -1.4158e-05, -1.2516e-02,  2.1653e-03,  1.3335e-03],\n",
       "        [-2.4372e-03,  5.1154e-04, -1.1835e-02,  6.4980e-04,  4.5894e-04],\n",
       "        [-2.8227e-03, -1.7505e-03, -1.3460e-02,  2.1013e-03,  9.9353e-04],\n",
       "        ...,\n",
       "        [ 0.0000e+00,  0.0000e+00,  0.0000e+00,  0.0000e+00,  0.0000e+00],\n",
       "        [ 0.0000e+00,  0.0000e+00,  0.0000e+00,  0.0000e+00,  0.0000e+00],\n",
       "        [ 0.0000e+00,  0.0000e+00,  0.0000e+00,  0.0000e+00,  0.0000e+00]],\n",
       "       grad_fn=<AsStridedBackward>)"
      ]
     },
     "execution_count": 30,
     "metadata": {},
     "output_type": "execute_result"
    }
   ],
   "source": [
    "from models import Gat\n",
    "model = Gat(6,5)\n",
    "path = 'data/SBM/0_uncopynode.pkl'\n",
    "with open(path, 'rb') as f:\n",
    "    data = pickle.load(f)\n",
    "output = model(data.x,data.edge_index)\n",
    "output"
   ]
  }
 ],
 "metadata": {
  "interpreter": {
   "hash": "107ca912c34283f1e783f874d23ab65f09505e75747332ac35ecc882c819ad56"
  },
  "kernelspec": {
   "display_name": "Python 3.8.11 ('test')",
   "language": "python",
   "name": "python3"
  },
  "language_info": {
   "codemirror_mode": {
    "name": "ipython",
    "version": 3
   },
   "file_extension": ".py",
   "mimetype": "text/x-python",
   "name": "python",
   "nbconvert_exporter": "python",
   "pygments_lexer": "ipython3",
   "version": "3.8.11"
  },
  "orig_nbformat": 4
 },
 "nbformat": 4,
 "nbformat_minor": 2
}
